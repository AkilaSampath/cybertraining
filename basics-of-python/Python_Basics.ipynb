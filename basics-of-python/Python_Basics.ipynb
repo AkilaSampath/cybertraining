{
 "cells": [
  {
   "cell_type": "markdown",
   "metadata": {
    "deletable": true,
    "editable": true
   },
   "source": [
    "# Introduction to Python"
   ]
  },
  {
   "cell_type": "markdown",
   "metadata": {
    "deletable": true,
    "editable": true
   },
   "source": [
    "## A Quick Tutorial of Python Basic Syntax"
   ]
  },
  {
   "cell_type": "markdown",
   "metadata": {
    "deletable": true,
    "editable": true
   },
   "source": [
    "### By Zhibo Zhang,  Physics Department, UMBC"
   ]
  },
  {
   "cell_type": "markdown",
   "metadata": {
    "deletable": true,
    "editable": true
   },
   "source": [
    "You can also learn Python basic syntax from the online tutorials listed below \n",
    "\n",
    "https://docs.python.org/2/tutorial/\n",
    "\n",
    "http://www.codecademy.com/en/tracks/python\n",
    "\n",
    "http://www.learnpython.org/\n",
    "\n",
    "http://www.tutorialspoint.com/python/\n"
   ]
  },
  {
   "cell_type": "markdown",
   "metadata": {
    "deletable": true,
    "editable": true
   },
   "source": [
    "## 1) A Quick Start"
   ]
  },
  {
   "cell_type": "markdown",
   "metadata": {
    "deletable": true,
    "editable": true
   },
   "source": [
    "To start the python programming, type \"ipython --pylab\" in the a terminal window. You will see something like\n"
   ]
  },
  {
   "cell_type": "raw",
   "metadata": {
    "deletable": true,
    "editable": true
   },
   "source": [
    "Python 2.7.3 | 64-bit | (default, Aug  8 2013, 05:37:06)\n",
    "Type \"copyright\", \"credits\" or \"license\" for more information.\n",
    "\n",
    "IPython 0.13.1 -- An enhanced Interactive Python.\n",
    "?         -> Introduction and overview of IPython's features.\n",
    "%quickref -> Quick reference.\n",
    "help      -> Python's own help system.\n",
    "object?   -> Details about 'object', use 'object??' for extra details.\n",
    "\n",
    "Welcome to pylab, a matplotlib-based Python environment [backend: MacOSX].\n",
    "For more information, type 'help(pylab)'."
   ]
  },
  {
   "cell_type": "markdown",
   "metadata": {
    "deletable": true,
    "editable": true
   },
   "source": [
    "There are two basics modes to run use Python, the ***Interactive*** mode and the ***Script*** model. In the Interactive mode, you can simply type some command and then hit \"enter\" to excute the command yout typed in. \n",
    "Let's try the following examples:"
   ]
  },
  {
   "cell_type": "code",
   "execution_count": 3,
   "metadata": {
    "collapsed": false,
    "deletable": true,
    "editable": true
   },
   "outputs": [
    {
     "name": "stdout",
     "output_type": "stream",
     "text": [
      "Hello CyberTraining\n"
     ]
    }
   ],
   "source": [
    "print(\"Hello CyberTraining\")"
   ]
  },
  {
   "cell_type": "code",
   "execution_count": 4,
   "metadata": {
    "collapsed": false,
    "deletable": true,
    "editable": true
   },
   "outputs": [
    {
     "name": "stdout",
     "output_type": "stream",
     "text": [
      "hello 1,2,3\n"
     ]
    }
   ],
   "source": [
    "print(\"hello 1,2,3\")"
   ]
  },
  {
   "cell_type": "code",
   "execution_count": 5,
   "metadata": {
    "collapsed": false,
    "deletable": true,
    "editable": true
   },
   "outputs": [
    {
     "ename": "SyntaxError",
     "evalue": "invalid syntax (<ipython-input-5-6135c6da936c>, line 1)",
     "output_type": "error",
     "traceback": [
      "\u001b[0;36m  File \u001b[0;32m\"<ipython-input-5-6135c6da936c>\"\u001b[0;36m, line \u001b[0;32m1\u001b[0m\n\u001b[0;31m    print(hello world)\u001b[0m\n\u001b[0m                    ^\u001b[0m\n\u001b[0;31mSyntaxError\u001b[0m\u001b[0;31m:\u001b[0m invalid syntax\n"
     ]
    }
   ],
   "source": [
    "print(hello world)"
   ]
  },
  {
   "cell_type": "code",
   "execution_count": null,
   "metadata": {
    "collapsed": false,
    "deletable": true,
    "editable": true
   },
   "outputs": [],
   "source": [
    "1+3"
   ]
  },
  {
   "cell_type": "code",
   "execution_count": null,
   "metadata": {
    "collapsed": false,
    "deletable": true,
    "editable": true
   },
   "outputs": [],
   "source": [
    "2+3"
   ]
  },
  {
   "cell_type": "code",
   "execution_count": null,
   "metadata": {
    "collapsed": false,
    "deletable": true,
    "editable": true
   },
   "outputs": [],
   "source": [
    "a = ['spam', 'eggs', 100.0, 1234]\n",
    "print( a )\n",
    "type(a[0])"
   ]
  },
  {
   "cell_type": "markdown",
   "metadata": {
    "deletable": true,
    "editable": true
   },
   "source": [
    "Sometimes, you may run into some problems and the python Integrated development environment (IDE) may give you some hint about the problem"
   ]
  },
  {
   "cell_type": "code",
   "execution_count": null,
   "metadata": {
    "collapsed": false,
    "deletable": true,
    "editable": true
   },
   "outputs": [],
   "source": [
    "365+\"Monday\""
   ]
  },
  {
   "cell_type": "markdown",
   "metadata": {
    "deletable": true,
    "editable": true
   },
   "source": [
    "In this example, the IDE basiclly tells you that the integral 365 and th string \"Monday\" are not addable "
   ]
  },
  {
   "cell_type": "markdown",
   "metadata": {
    "deletable": true,
    "editable": true
   },
   "source": [
    "### 1.1 Python Identifiers:"
   ]
  },
  {
   "cell_type": "markdown",
   "metadata": {
    "deletable": true,
    "editable": true
   },
   "source": [
    "A Python identifier is a name used to identify a variable, function, class, module or other object. An identifier starts with a letter A to Z or a to z or an underscore (_) followed by zero or more letters, underscores and digits (0 to 9). \n",
    "\n",
    "Python does not allow punctuation characters such as @, $ and % within identifiers. **Python is a case sensitive programming language.** Thus, Manpower and manpower are two different identifiers in Python."
   ]
  },
  {
   "cell_type": "code",
   "execution_count": null,
   "metadata": {
    "collapsed": false,
    "deletable": true,
    "editable": true
   },
   "outputs": [],
   "source": [
    "P=4\n",
    "p='fg'\n",
    "print( P,p)"
   ]
  },
  {
   "cell_type": "markdown",
   "metadata": {
    "deletable": true,
    "editable": true
   },
   "source": [
    "**The following list shows the reserved words in Python.** These reserved words may not be used as constant or variable or any other identifier names. All the Python keywords contain lowercase letters only."
   ]
  },
  {
   "cell_type": "raw",
   "metadata": {
    "deletable": true,
    "editable": true
   },
   "source": [
    "and\texec\tnot\n",
    "assert\tfinally\tor\n",
    "break\tfor\tpass\n",
    "class\tfrom\tprint\n",
    "continue\tglobal\traise\n",
    "def\tif\treturn\n",
    "del\timport\ttry\n",
    "elif\tin\twhile\n",
    "else\tis\twith\n",
    "except\tlambda\tyield"
   ]
  },
  {
   "cell_type": "code",
   "execution_count": null,
   "metadata": {
    "collapsed": false,
    "deletable": true,
    "editable": true
   },
   "outputs": [],
   "source": [
    "and = 5 ; for = '123'"
   ]
  },
  {
   "cell_type": "markdown",
   "metadata": {
    "deletable": true,
    "editable": true
   },
   "source": [
    "### 1.2 Lines and Indentation:"
   ]
  },
  {
   "cell_type": "markdown",
   "metadata": {
    "deletable": true,
    "editable": true
   },
   "source": [
    "One of the first caveats programmers encounter when learning Python is the fact that there are no braces to indicate blocks of code for class and function definitions or flow control. Blocks of code are denoted by line indentation, which is rigidly enforced.\n",
    "\n",
    "The number of spaces in the indentation is variable, but all statements within the block must be indented the same amount. Both blocks in this example are fine:"
   ]
  },
  {
   "cell_type": "code",
   "execution_count": null,
   "metadata": {
    "collapsed": false,
    "deletable": true,
    "editable": true
   },
   "outputs": [],
   "source": [
    "a = 5\n",
    "b=2.0\n",
    "''''''\n",
    "if a>=0:\n",
    "    print( \"A is larger than zero\")\n",
    "    print( \"Positive\")\n",
    "else: \n",
    "    print( \"A is smaller than zero\")\n",
    "    print( \"negative\")"
   ]
  },
  {
   "cell_type": "markdown",
   "metadata": {
    "deletable": true,
    "editable": true
   },
   "source": [
    "** * **"
   ]
  },
  {
   "cell_type": "markdown",
   "metadata": {
    "deletable": true,
    "editable": true
   },
   "source": [
    "## 2) Python Variable Types"
   ]
  },
  {
   "cell_type": "markdown",
   "metadata": {
    "deletable": true,
    "editable": true
   },
   "source": [
    "### 2.1 Assigning Values to Variables:"
   ]
  },
  {
   "cell_type": "markdown",
   "metadata": {
    "deletable": true,
    "editable": true
   },
   "source": [
    "Python variables do not have to be explicitly declared to reserve memory space. The declaration happens automatically when you assign a value to a variable. The equal sign (=) is used to assign values to variables. The operand to the left of the = operator is the name of the variable and the operand to the right of the = operator is the value stored in the variable. For example:"
   ]
  },
  {
   "cell_type": "code",
   "execution_count": null,
   "metadata": {
    "collapsed": false,
    "deletable": true,
    "editable": true
   },
   "outputs": [],
   "source": [
    "counter = 100          # An integer assignment\n",
    "miles   = 1000.0       # A floating point\n",
    "name    = \"John\"       # A string\n",
    "\n",
    "print( counter)\n",
    "print( miles)\n",
    "print( name)\n",
    "\n",
    "print( type(miles), type(name)"
   ]
  },
  {
   "cell_type": "markdown",
   "metadata": {
    "deletable": true,
    "editable": true
   },
   "source": [
    "Python allows you to assign a single value to several variables simultaneously. For example:"
   ]
  },
  {
   "cell_type": "code",
   "execution_count": null,
   "metadata": {
    "collapsed": false,
    "deletable": true,
    "editable": true
   },
   "outputs": [],
   "source": [
    "a = b = c = 1\n",
    "print( a,b,c )\n",
    "\n",
    "b=3.0\n",
    "print( a,b,c)"
   ]
  },
  {
   "cell_type": "markdown",
   "metadata": {
    "deletable": true,
    "editable": true
   },
   "source": [
    "Here, an integer object is created with the value 1, and all three variables are assigned to the same memory location. You can also assign multiple objects to multiple variables. For example:"
   ]
  },
  {
   "cell_type": "code",
   "execution_count": null,
   "metadata": {
    "collapsed": false,
    "deletable": true,
    "editable": true
   },
   "outputs": [],
   "source": [
    "a, b, c = 1, 2.0,'cat'\n",
    "print( a,b,c)"
   ]
  },
  {
   "cell_type": "markdown",
   "metadata": {
    "deletable": true,
    "editable": true
   },
   "source": [
    "You can also assign values to varaible through standard input"
   ]
  },
  {
   "cell_type": "code",
   "execution_count": null,
   "metadata": {
    "collapsed": false,
    "deletable": true,
    "editable": true
   },
   "outputs": [],
   "source": [
    "x=input()\n",
    "print( x, type(x))\n",
    "x=2\n",
    "print( x, type(x))\n",
    "\n",
    "x=float(x)\n",
    "print( x, type(x))"
   ]
  },
  {
   "cell_type": "markdown",
   "metadata": {
    "deletable": true,
    "editable": true
   },
   "source": [
    "### 2.2 Standard Data Types:"
   ]
  },
  {
   "cell_type": "markdown",
   "metadata": {
    "deletable": true,
    "editable": true
   },
   "source": [
    "The data stored in memory can be of many types. For example, a person's age is stored as a numeric value and his or her address is stored as alphanumeric characters. Python has various standard types that are used to define the operations possible on them and the storage method for each of them.\n",
    "\n",
    "Python has five standard data types: 1) **Numbers** 2) **String** 3) **List** 4) **Tuple** 5) **Dictionary**"
   ]
  },
  {
   "cell_type": "markdown",
   "metadata": {
    "deletable": true,
    "editable": true
   },
   "source": [
    "#### 2.2.1 Python Numbers:"
   ]
  },
  {
   "cell_type": "markdown",
   "metadata": {
    "deletable": true,
    "editable": true
   },
   "source": [
    "Number data types store numeric values. They are immutable data types which means that changing the value of a number data type results in a newly allocated object."
   ]
  },
  {
   "cell_type": "markdown",
   "metadata": {
    "deletable": true,
    "editable": true
   },
   "source": [
    "Python supports four different numerical types:\n",
    "\n",
    "1) int (signed integers)\n",
    "\n",
    "2) long (long integers [can also be represented in octal and hexadecimal])\n",
    "\n",
    "3) float (floating point real values)\n",
    "\n",
    "4) complex (complex numbers)"
   ]
  },
  {
   "cell_type": "markdown",
   "metadata": {
    "deletable": true,
    "editable": true
   },
   "source": [
    "Number objects are created when you assign a value to them. For example:"
   ]
  },
  {
   "cell_type": "code",
   "execution_count": null,
   "metadata": {
    "collapsed": false,
    "deletable": true,
    "editable": true
   },
   "outputs": [],
   "source": [
    "x=-2\n",
    "y=560L #It is recommeded to use uppercase L after long integer in Python\n",
    "z=35.78        \n",
    "c=3.0+4.5j #A complex number consists of an ordered pair of real floating-point numbers denoted by a + bj, where a is the real part and b is the imaginary part of the complex number.\n",
    "print( 'x=',x,'y=',y,'z=',z,'c=',c)\n",
    "print( type(x),type(y),type(z), type(c)) # \"type\" function shows the data type of a variable"
   ]
  },
  {
   "cell_type": "markdown",
   "metadata": {
    "deletable": true,
    "editable": true
   },
   "source": [
    "You can use the constructors int(), long(), float(), and complex() to produce numbers of a specific type."
   ]
  },
  {
   "cell_type": "code",
   "execution_count": null,
   "metadata": {
    "collapsed": false,
    "deletable": true,
    "editable": true
   },
   "outputs": [],
   "source": [
    "import numpy as np\n",
    "print( float(y)) # convert y from long integer to float\n",
    "print( np.int(z))# convert z from float to complex\n",
    "#print( float(c.real)# convert real part of c to integer"
   ]
  },
  {
   "cell_type": "markdown",
   "metadata": {
    "deletable": true,
    "editable": true
   },
   "source": [
    "You can check the system-specific parameters of each numerical typics. To do this, you need to use the system library \"sys\". In the following examples, we check the maximum possible values of floating point and integer number in python:"
   ]
  },
  {
   "cell_type": "code",
   "execution_count": null,
   "metadata": {
    "collapsed": false,
    "deletable": true,
    "editable": true
   },
   "outputs": [],
   "source": [
    "import sys # import system library\n",
    "print( 'maximum of floating point:',sys.float_info.max )\n",
    "print( 'maximum of integer:',sys.maxint )\n",
    "print(  sys.long_info)"
   ]
  },
  {
   "cell_type": "markdown",
   "metadata": {
    "deletable": true,
    "editable": true
   },
   "source": [
    "#### 2.2.2 Python Strings:"
   ]
  },
  {
   "cell_type": "markdown",
   "metadata": {
    "deletable": true,
    "editable": true
   },
   "source": [
    "Strings in Python are identified as a contiguous set of characters in between quotation marks. Python allows for either pairs of single or double quotes. Subsets of strings can be taken using the slice operator ( [ ] and [ : ] ) **with indexes starting at 0** in the beginning of the string and working their way from -1 at the end. The plus ( + ) sign is the string concatenation operator and the asterisk ( * ) is the repetition operator. For example:"
   ]
  },
  {
   "cell_type": "code",
   "execution_count": null,
   "metadata": {
    "collapsed": false,
    "deletable": true,
    "editable": true
   },
   "outputs": [],
   "source": [
    "str = 'Hello_PHYS220'\n",
    "\n",
    "print( str  )        # print(s complete string\n",
    "print( str[0]  )     # print(s first character of the string\n",
    "print( str[2:5] )    # print(s characters starting from 3rd to 5th\n",
    "print( str[:2]   )   # print(s  the first two chars\n",
    "print( str[2:] )     # print(s string starting from 3rd character\n",
    "print( str[-1::-1]  ) # print(s 2 chars before the last one\n",
    "print( str[-3:] )    # print(s the last 3 chars \n",
    "print( str * 2  )    # print(s string two times\n",
    "print( str + \"TEST\" ) # print(s concatenated string"
   ]
  },
  {
   "cell_type": "markdown",
   "metadata": {
    "deletable": true,
    "editable": true
   },
   "source": [
    "A few words about indexing conventions of Python string. Let's focus on the following example. First, let's create a simple string 'a'."
   ]
  },
  {
   "cell_type": "code",
   "execution_count": null,
   "metadata": {
    "collapsed": false,
    "deletable": true,
    "editable": true
   },
   "outputs": [],
   "source": [
    "import numpy as np\n",
    "a= np.arange(10)\n",
    "a +=100\n",
    "print( len(a),a)\n",
    "print( a[0:5])"
   ]
  },
  {
   "cell_type": "markdown",
   "metadata": {
    "deletable": true,
    "editable": true
   },
   "source": [
    "The most general way to slice 'a' is b=a[**start : stop  : step**]"
   ]
  },
  {
   "cell_type": "markdown",
   "metadata": {
    "deletable": true,
    "editable": true
   },
   "source": [
    "There are only three things to remember\n",
    "\n",
    "**start** is the first item that we want (of course) default value is \"0\" i.e. the first position\n",
    "\n",
    "**stop** is the <font color='red'>first item that we do **not** want</font> the default value is the last character (i.e., len(a) len() is a function to get the length of a string)\n",
    "\n",
    "**step**, being positive or negative, defines whether we are moving forwards (from the first position of the string towards its end) or backwards (from the last position of the str towards its start), the default value is 1\n",
    "\n",
    "Try the following examples:"
   ]
  },
  {
   "cell_type": "code",
   "execution_count": null,
   "metadata": {
    "collapsed": false,
    "deletable": true,
    "editable": true
   },
   "outputs": [],
   "source": [
    "print( a[0:10])\n",
    "print( a[0:len(a):2])# begins with the first char, stops at the last one, every other char"
   ]
  },
  {
   "cell_type": "code",
   "execution_count": null,
   "metadata": {
    "collapsed": false,
    "deletable": true,
    "editable": true
   },
   "outputs": [],
   "source": [
    "a[1::2] # bgins with the 2nd char (remember the index starts with 0), stops at the last one by default, every other char"
   ]
  },
  {
   "cell_type": "code",
   "execution_count": null,
   "metadata": {
    "collapsed": false,
    "deletable": true,
    "editable": true
   },
   "outputs": [],
   "source": [
    "a[3:8:3] # begins with the 4th char, stops at the 7th char (7), every third char"
   ]
  },
  {
   "cell_type": "markdown",
   "metadata": {
    "deletable": true,
    "editable": true
   },
   "source": [
    "Another thing about indexing is that Python allows **negative** indices. For example, "
   ]
  },
  {
   "cell_type": "code",
   "execution_count": null,
   "metadata": {
    "collapsed": false,
    "deletable": true,
    "editable": true
   },
   "outputs": [],
   "source": [
    "a[-5::2] "
   ]
  },
  {
   "cell_type": "code",
   "execution_count": null,
   "metadata": {
    "collapsed": false,
    "deletable": true,
    "editable": true
   },
   "outputs": [],
   "source": [
    "a[-7:-2:2]"
   ]
  },
  {
   "cell_type": "markdown",
   "metadata": {
    "deletable": true,
    "editable": true
   },
   "source": [
    "Evening more confusing is that, using the negative step size, you can make the slicing go backword. For exmple, "
   ]
  },
  {
   "cell_type": "code",
   "execution_count": null,
   "metadata": {
    "collapsed": false,
    "deletable": true,
    "editable": true
   },
   "outputs": [],
   "source": [
    "a[-1:0:-1]"
   ]
  },
  {
   "cell_type": "markdown",
   "metadata": {
    "deletable": true,
    "editable": true
   },
   "source": [
    "### 2.2.3 Python Lists:"
   ]
  },
  {
   "cell_type": "markdown",
   "metadata": {
    "deletable": true,
    "editable": true
   },
   "source": [
    "Lists are the most versatile of Python's compound data types. A list contains items separated by commas and enclosed within square brackets ([]). To some extent, lists are similar to arrays in C. One difference between them is that all the items belonging to a list can be of different data type.\n",
    "\n",
    "The values stored in a list can be accessed using the slice operator ( [ ] and [ : ] ) with indexes starting at 0 in the beginning of the list and working their way to end -1. The plus ( + ) sign is the list concatenation operator, and the asterisk ( * ) is the repetition operator. For example:"
   ]
  },
  {
   "cell_type": "code",
   "execution_count": null,
   "metadata": {
    "collapsed": false,
    "deletable": true,
    "editable": true
   },
   "outputs": [],
   "source": [
    "list = [ 'abcd', 786 , 2.23, 'john', 70.2 ]\n",
    "tinylist = [123, 'john']\n",
    "\n",
    "print( list   )       # print(s complete list\n",
    "print( list[0]  )     # print(s first element of the list\n",
    "print( list[1:3]  )   # print(s elements starting from 2nd till 3rd \n",
    "print( list[2:] )  # print(s elements starting from 3rd element\n",
    "list[3] = 'cat'\n",
    "print( tinylist * 2)  # print(s list two times\n",
    "print( list + tinylist) # print(s concatenated lists\n",
    "\n",
    "c=[7,6]\n",
    "[c.append(i) for  i in [3,4,5]]\n",
    "c.append('f')\n",
    "c.append('g')\n",
    "print( c )\n",
    "print( c[2])"
   ]
  },
  {
   "cell_type": "markdown",
   "metadata": {
    "deletable": true,
    "editable": true
   },
   "source": [
    "Note that the list variable uses the same indexing convention as the string variable.For example:"
   ]
  },
  {
   "cell_type": "code",
   "execution_count": null,
   "metadata": {
    "collapsed": false,
    "deletable": true,
    "editable": true
   },
   "outputs": [],
   "source": [
    "list[0::2]"
   ]
  },
  {
   "cell_type": "code",
   "execution_count": null,
   "metadata": {
    "collapsed": false,
    "deletable": true,
    "editable": true
   },
   "outputs": [],
   "source": [
    "list[-3:-1]"
   ]
  },
  {
   "cell_type": "markdown",
   "metadata": {
    "deletable": true,
    "editable": true
   },
   "source": [
    "### 2.2.4 Python Tuples:"
   ]
  },
  {
   "cell_type": "markdown",
   "metadata": {
    "deletable": true,
    "editable": true
   },
   "source": [
    "A tuple is another sequence data type that is similar to the list. A tuple consists of a number of values separated by commas. Unlike lists, however, tuples are enclosed within parentheses.\n",
    "\n",
    "The main differences between lists and tuples are: Lists are enclosed in brackets ( [ ] ) and their elements and size can be changed, while tuples are enclosed in parentheses ( ( ) ) and cannot be updated, i.e., immutable. Tuples can be thought of as read-only lists. For example:"
   ]
  },
  {
   "cell_type": "code",
   "execution_count": null,
   "metadata": {
    "collapsed": false,
    "deletable": true,
    "editable": true
   },
   "outputs": [],
   "source": [
    "tuple = ( 'abcd', 786 , 2.23, 'john', 70.2  )\n",
    "tinytuple = (123, 'john')\n",
    "\n",
    "print( tuple )          # print(s complete list\n",
    "print( tuple[0]   )     # print(s first element of the list\n",
    "print( tuple[4:0]   )   # print(s elements starting from 2nd till 3rd \n",
    "print( tuple[2:] )      # print(s elements starting from 3rd element\n",
    "tuple[3] = 'cat'\n",
    "print( tinytuple * 2 )  # print(s list two times\n",
    "print( tuple + tinytuple) # print(s concatenated lists"
   ]
  },
  {
   "cell_type": "markdown",
   "metadata": {
    "deletable": true,
    "editable": true
   },
   "source": [
    "Following is invalid with tuple, because we attempted to update a tuple, which is not allowed. Similar case is possible with lists:"
   ]
  },
  {
   "cell_type": "code",
   "execution_count": null,
   "metadata": {
    "collapsed": false,
    "deletable": true,
    "editable": true
   },
   "outputs": [],
   "source": [
    "tuple = ( 'abcd', 786 , 2.23, 'john', 70.2  )\n",
    "tuple[2] = 1000    # Invalid syntax with tuple"
   ]
  },
  {
   "cell_type": "markdown",
   "metadata": {
    "deletable": true,
    "editable": true
   },
   "source": [
    "### 2.2.5 Python Dictionary:"
   ]
  },
  {
   "cell_type": "markdown",
   "metadata": {
    "deletable": true,
    "editable": true
   },
   "source": [
    "Python's dictionaries are kind of hash table type. They work like associative arrays or hashes found in Perl and consist of key-value pairs. A dictionary key can be almost any Python type, but are usually numbers or strings. Values, on the other hand, can be any arbitrary Python object.\n",
    "\n",
    "Dictionaries are enclosed by curly braces ( { } ) and values can be assigned and accessed using square braces ( [] ). For example:"
   ]
  },
  {
   "cell_type": "code",
   "execution_count": null,
   "metadata": {
    "collapsed": false,
    "deletable": true,
    "editable": true
   },
   "outputs": [],
   "source": [
    "dict = {}\n",
    "dict['one'] = \"This is one\"\n",
    "dict[2]     = \"This is two\"\n",
    "\n",
    "tinydict = {'name': 'john','code':6734, 'dept': 'sales'}\n",
    "\n",
    "\n",
    "print( dict['one'] )      # print(s value for 'one' key\n",
    "print( dict[2] )          # print(s value for 2 key\n",
    "print( tinydict )         # print(s complete dictionary\n",
    "print( tinydict.keys() )  # print(s all the keys\n",
    "print( tinydict.values() )# print(s all the values\n"
   ]
  },
  {
   "cell_type": "markdown",
   "metadata": {
    "deletable": true,
    "editable": true
   },
   "source": [
    "### 2.2.6 Data Type Conversion:"
   ]
  },
  {
   "cell_type": "markdown",
   "metadata": {
    "deletable": true,
    "editable": true
   },
   "source": [
    "Sometimes, you may need to perform conversions between the built-in types. To convert between types, you simply use the type name as a function.\n",
    "\n",
    "There are several built-in functions to perform conversion from one data type to another. These functions return a new object representing the converted value."
   ]
  },
  {
   "cell_type": "markdown",
   "metadata": {
    "deletable": true,
    "editable": true
   },
   "source": [
    "\n",
    "**int(x [,base])**\n",
    "\n",
    "Converts x to an integer. base specifies the base if x is a string.\n",
    "\n",
    "**long(x [,base] )**\n",
    "\n",
    "Converts x to a long integer. base specifies the base if x is a string.\n",
    "\n",
    "**float(x)**\n",
    "\n",
    "Converts x to a floating-point number.\n",
    "\n",
    "**complex(real [,imag])**\n",
    "\n",
    "Creates a complex number.\n",
    "\n",
    "**str(x)**\n",
    "\n",
    "Converts object x to a string representation.\n",
    "\n",
    "**tuple(s)**\n",
    "\n",
    "Converts s to a tuple.\n",
    "\n",
    "**list(s)**\n",
    "\n",
    "Converts s to a list.\n",
    "\n",
    "**dict(d)**\n",
    "\n",
    "Creates a dictionary. d must be a sequence of (key,value) tuples.\n",
    "\n",
    "** * **"
   ]
  },
  {
   "cell_type": "markdown",
   "metadata": {
    "deletable": true,
    "editable": true
   },
   "source": [
    "## 3) Python Basic Operators"
   ]
  },
  {
   "cell_type": "markdown",
   "metadata": {
    "deletable": true,
    "editable": true
   },
   "source": [
    "Python language supports the following types of operators.\n",
    "\n",
    "**Arithmetic Operators**\n",
    "\n",
    "**Assignment Operators**\n",
    "\n",
    "\n",
    "**Comparison (i.e., Relational) Operators**\n",
    "\n",
    "**Logical Operators**\n",
    "\n",
    "**Bitwise Operators**\n",
    "\n",
    "**Membership Operators**\n",
    "\n",
    "**Identity Operators**\n",
    "\n",
    "Let's have an overview  on the first three\n"
   ]
  },
  {
   "cell_type": "markdown",
   "metadata": {
    "deletable": true,
    "editable": true
   },
   "source": [
    "### 3.1 Python Arithmetic Operators:"
   ]
  },
  {
   "cell_type": "markdown",
   "metadata": {
    "deletable": true,
    "editable": true
   },
   "source": [
    "<font color='red'> + </font> : Addition - Adds values on either side of the operator"
   ]
  },
  {
   "cell_type": "markdown",
   "metadata": {
    "deletable": true,
    "editable": true
   },
   "source": [
    "<font color='red'> - </font>  : Subtraction - Subtracts right hand operand from left hand operand"
   ]
  },
  {
   "cell_type": "markdown",
   "metadata": {
    "deletable": true,
    "editable": true
   },
   "source": [
    "<font color='red'> * </font> : Multiplication - Multiplies values on either side of the operator"
   ]
  },
  {
   "cell_type": "markdown",
   "metadata": {
    "deletable": true,
    "editable": true
   },
   "source": [
    "<font color='red'> / </font> : Division - Divides left hand operand by right hand operand"
   ]
  },
  {
   "cell_type": "markdown",
   "metadata": {
    "deletable": true,
    "editable": true
   },
   "source": [
    "<font color='red'> % </font> : Modulus - Divides left hand operand by right hand operand and returns remainder"
   ]
  },
  {
   "cell_type": "markdown",
   "metadata": {
    "deletable": true,
    "editable": true
   },
   "source": [
    "<font color='red'> **  </font> : Exponent - Performs exponential (power) calculation on operators"
   ]
  },
  {
   "cell_type": "markdown",
   "metadata": {
    "deletable": true,
    "editable": true
   },
   "source": [
    "<font color='red'>// </font> : Floor Division - The division of operands where the result is the quotient in which the digits after the decimal point are removed."
   ]
  },
  {
   "cell_type": "code",
   "execution_count": null,
   "metadata": {
    "collapsed": false,
    "deletable": true,
    "editable": true
   },
   "outputs": [],
   "source": [
    "from __future__ import division print(_function\n",
    "a = 21\n",
    "b = 10\n",
    "c = 0\n",
    "\n",
    "c = a + b\n",
    "print( (\"Line 1 - Value of c is \", c)\n",
    "\n",
    "c = a - b\n",
    "print( \"Line 2 - Value of c is \", c )\n",
    "\n",
    "c = a * b\n",
    "print( \"Line 3 - Value of c is \", c )\n",
    "\n",
    "c = a / b\n",
    "print( \"Line 4 - Value of c is \", c )\n",
    "\n",
    "c = a % b\n",
    "print( \"Line 5 - Value of c is \", c)\n",
    "\n",
    "a = 2\n",
    "b = 3\n",
    "c = a**b \n",
    "print( \"Line 6 - Value of c is \", c)\n",
    "\n",
    "a = 13\n",
    "b = 6\n",
    "c = a//b \n",
    "print(\"Line 7 - Value of c is \", c)"
   ]
  },
  {
   "cell_type": "markdown",
   "metadata": {
    "deletable": true,
    "editable": true
   },
   "source": [
    " **Be careful** about the 'division'. In Python 2.x, the operator '/'  is **integer division** if inputs are integers. \n",
    "See the examples below:"
   ]
  },
  {
   "cell_type": "code",
   "execution_count": null,
   "metadata": {
    "collapsed": false,
    "deletable": true,
    "editable": true
   },
   "outputs": [],
   "source": [
    "print( \"5/3=\" , 5/3 )\n",
    "print( \"5.0/3.0 = \",  5.0/3.0)\n",
    "a,b=7,3\n",
    "print( a,b, a/b)\n",
    "\n",
    "3+80.343"
   ]
  },
  {
   "cell_type": "markdown",
   "metadata": {
    "deletable": true,
    "editable": true
   },
   "source": [
    "### 3.2 Python Assignment Operators:"
   ]
  },
  {
   "cell_type": "markdown",
   "metadata": {
    "deletable": true,
    "editable": true
   },
   "source": [
    "<font color='red'>= </font>     :Simple assignment operator <br>       Assigns values from right side operands to left side operand <br>      c = a + b will assigne value of a + b into c  <br> <br>\n",
    "<font color='red'>+=</font>\t:Add AND assignment operator <br>  It adds right operand to the left operand and assign the result to left operand <br>\t c += a is equivalent to c = c + a <br><br>\n",
    "<font color='red'>-=</font>\t :Subtract AND assignment operator <br> It subtracts right operand from the left operand and assign the result to left operand\t<br>  c -= a is equivalent to c = c - a <br><br>\n",
    "<font color='red'>**=</font>\t:Multiply AND assignment operator <br>It multiplies right operand with the left operand and assign the result to left operand <br> c *= a is equivalent to c = c * a <br><br>\n",
    "<font color='red'>/=</font>\t:Divide AND assignment operator <br> It divides left operand with the right operand and assign the result to left operand <br>\t c /= a is equivalent to c = c / a <br><br>\n",
    "<font color='red'>%=</font>\t:Modulus AND assignment operator <br> It takes modulus using two operands and assign the result to left operand\t<br> c %= a is equivalent to c = c % a <br><br>\n",
    "<font color='red'>****=</font> :Exponent AND assignment operator <br> Performs exponential (power) calculation on operators and assign value to the left operand<br>\t c **= a is equivalent to c = c ** a <br><br>\n",
    "<font color='red'>//=</font>\t:Floor Dividion and assigns a value <br> Performs floor division on operators and assign value to the left operand\t<br>  c //= a is equivalent to c = c // a <br>\n"
   ]
  },
  {
   "cell_type": "code",
   "execution_count": null,
   "metadata": {
    "collapsed": false,
    "deletable": true,
    "editable": true
   },
   "outputs": [],
   "source": [
    "a = 2\n",
    "b = 3\n",
    "c = 0\n",
    "\n",
    "c = a + b\n",
    "print( \"Line 1 - Value of c is \", c)\n",
    "\n",
    "c += a \n",
    "print( \"Line 2 - Value of c is \", c )\n",
    "\n",
    "c *= a\n",
    "print( \"Line 3 - Value of c is \", c )\n",
    "\n",
    "c /= a \n",
    "print( \"Line 4 - Value of c is \", c )\n",
    "\n",
    "c  = 45\n",
    "c %= a\n",
    "print( \"Line 5 - Value of c is \", c)\n",
    "\n",
    "c **= a\n",
    "print( \"Line 6 - Value of c is \", c)\n",
    "\n",
    "c //= a\n",
    "print( \"Line 7 - Value of c is \", c)"
   ]
  },
  {
   "cell_type": "markdown",
   "metadata": {
    "deletable": true,
    "editable": true
   },
   "source": [
    "### 3.3 Python Comparison Operators"
   ]
  },
  {
   "cell_type": "markdown",
   "metadata": {
    "deletable": true,
    "editable": true
   },
   "source": [
    "Asuming a=10, b=20 <br><br>\n",
    "<font color='red'>==</font>\t :Checks if the value of two operands are equal or not, if yes then condition becomes true. <br>\t (a == b) is not true. <br> <br>\n",
    "<font color='red'>!=</font>\t\t :Checks if the value of two operands are equal or not, if values are not equal then condition becomes true. <br>\t (a != b) is true. <br> <br>\n",
    "<font color='red'><></font>\t\t :Checks if the value of two operands are equal or not, if values are not equal then condition becomes true.\t<br>  (a <> b) is true. This is the same  as the  != operator.  but this is an obsolete usage kept for backwards compatibility only. New code should always use !=.<br> <br> \n",
    "    <font color='red'>></font>\t\t :Checks if the value of left operand is greater than the value of right operand, if yes then condition becomes true. <br>\t (a > b) is not true. <br> <br>\n",
    "    <font color='red'><</font>\t\t :Checks if the value of left operand is less than the value of right operand, if yes then condition becomes true. <br>\t (a < b) is true. <br> <br>\n",
    "        <font color='red'>>=</font>\t\t :Checks if the value of left operand is greater than or equal to the value of right operand, if yes then condition becomes true. <br>  (a >= b) is not true. <br> <br>\n",
    "        <font color='red'><=</font>\t\t :Checks if the value of left operand is less than or equal to the value of right operand, if yes then condition becomes true.\t<br>  (a <= b) is true. <br>"
   ]
  },
  {
   "cell_type": "code",
   "execution_count": null,
   "metadata": {
    "collapsed": false,
    "deletable": true,
    "editable": true
   },
   "outputs": [],
   "source": [
    "a = 21\n",
    "b = 10\n",
    "c = 0\n",
    "\n",
    "if ( a == b ):\n",
    "   print( \"Line 1 - a is equal to b\")\n",
    "else:\n",
    "   print( \"Line 1 - a is not equal to b\")\n",
    "\n",
    "if ( a != b ):\n",
    "   print( \"Line 2 - a is not equal to b\")\n",
    "else:\n",
    "   print( \"Line 2 - a is equal to b\")\n",
    "\n",
    "if ( a <> b ):\n",
    "   print( \"Line 3 - a is not equal to b\")\n",
    "else:\n",
    "   print( \"Line 3 - a is equal to b\")\n",
    "\n",
    "if ( a < b ):\n",
    "   print( \"Line 4 - a is less than b\" )\n",
    "else:\n",
    "   print( \"Line 4 - a is not less than b\")\n",
    "\n",
    "if ( a > b ):\n",
    "   print( \"Line 5 - a is greater than b\")\n",
    "else:\n",
    "   print( \"Line 5 - a is not greater than b\")\n",
    "\n",
    "a = 5;\n",
    "b = 20;\n",
    "if ( a <= b ):\n",
    "   print( \"Line 6 - a is either less than or equal to  b\")\n",
    "else:\n",
    "   print( \"Line 6 - a is neither less than nor equal to  b\")\n",
    "\n",
    "if ( b >= a ):\n",
    "   print( \"Line 7 - b is either greater than  or equal to b\")\n",
    "else:\n",
    "   print( \"Line 7 - b is neither greater than  nor equal to b\")"
   ]
  },
  {
   "cell_type": "markdown",
   "metadata": {
    "deletable": true,
    "editable": true
   },
   "source": [
    "### 3.4 Python Logical Operators:"
   ]
  },
  {
   "cell_type": "markdown",
   "metadata": {
    "deletable": true,
    "editable": true
   },
   "source": [
    "assuming a=10, b=20\n",
    "\n",
    "<font color='red'>and</font>\t :Called Logical AND operator. If both the operands are true then then condition becomes true.<br>  (a and b) is true.<br> <br> \n",
    "<font color='red'>or</font>\t:Called Logical OR Operator. If any of the two operands are non zero then then condition becomes true.<br> \t (a or b) is true.<br> <br> \n",
    "<font color='red'>not</font>\t:Called Logical NOT Operator. Use to reverses the logical state of its operand. If a condition is true then Logical NOT operator will make false.\t<br>  not(a and b) is false."
   ]
  },
  {
   "cell_type": "code",
   "execution_count": null,
   "metadata": {
    "collapsed": false,
    "deletable": true,
    "editable": true
   },
   "outputs": [],
   "source": [
    "a = False\n",
    "b = True\n",
    "c = 0\n",
    "\n",
    "if ( a and b ):\n",
    "    print( \"Line 1 - a and b are both true\")\n",
    "else:\n",
    "    print( \"Line 1 - Either a is not true or b is not true\")\n",
    "\n",
    "if ( a or b ):\n",
    "    print( \"Line 2 - Either a is true or b is true or both are true\")\n",
    "else:\n",
    "    print( \"Line 2 - Neither a is true nor b is true\")\n",
    "\n",
    "if not a:\n",
    "    print( \"Line 3 - a is False\")\n",
    "else:\n",
    "    print( \"Line 3 - a is Ttrue\")\n",
    "\n",
    "if not ( a and b ):\n",
    "    print( \"Line 4 - a and b are not both true\")\n",
    "else:\n",
    "    print( \"Line 4 - a and b are both true\")\n",
    "\n"
   ]
  },
  {
   "cell_type": "markdown",
   "metadata": {
    "deletable": true,
    "editable": true
   },
   "source": [
    "## 4) Python Decision Making"
   ]
  },
  {
   "cell_type": "markdown",
   "metadata": {
    "deletable": true,
    "editable": true
   },
   "source": [
    "Decision making structures require that the programmer specify one or more conditions to be evaluated or tested by the program, along with a statement or statements to be executed if the condition is determined to be true, and optionally, other statements to be executed if the condition is determined to be false.\n",
    "\n",
    "Python programming language assumes any **non-zero** and **non-null** values as **true**, and if it is either **zero or null**, then it is assumed as **false** value."
   ]
  },
  {
   "cell_type": "markdown",
   "metadata": {
    "deletable": true,
    "editable": true
   },
   "source": [
    "### 4.1 \"if\" statement"
   ]
  },
  {
   "cell_type": "markdown",
   "metadata": {
    "deletable": true,
    "editable": true
   },
   "source": [
    "4.1.1 ***if*** Syntax: <br>\n",
    "if expression: <br> \n",
    "<pre>statement(s)</pre> "
   ]
  },
  {
   "cell_type": "code",
   "execution_count": 6,
   "metadata": {
    "collapsed": false,
    "deletable": true,
    "editable": true
   },
   "outputs": [
    {
     "name": "stdout",
     "output_type": "stream",
     "text": [
      "2 - Got a true expression value\n",
      "0\n",
      "Good bye!\n",
      "end\n"
     ]
    }
   ],
   "source": [
    "# var1 = 300\n",
    "# var2 = 200\n",
    "# if (var1>=var2): # do not forget the colon \":\"\n",
    "#     print( \"1 - Got a true expression value\"\n",
    "#     print( var1\n",
    "\n",
    "# if var1<=var2: print( 'hi'\n",
    "\n",
    "var2 = 0\n",
    "a= 5>3\n",
    "if a :\n",
    "    print( \"2 - Got a true expression value\")\n",
    "    print( var2)\n",
    "    print( \"Good bye!\")\n",
    "print( 'end')"
   ]
  },
  {
   "cell_type": "markdown",
   "metadata": {
    "deletable": true,
    "editable": true
   },
   "source": [
    "4.1.2 ***if... else...*** Syntax: <br>\n",
    "    if expression: <br>\n",
    "<pre>statement(s) </pre><br>\n",
    "else:\n",
    "<pre> statement(s) </pre>\n",
    "       "
   ]
  },
  {
   "cell_type": "code",
   "execution_count": 7,
   "metadata": {
    "collapsed": false,
    "deletable": true,
    "editable": true
   },
   "outputs": [
    {
     "name": "stdout",
     "output_type": "stream",
     "text": [
      "1 - Got a true expression value\n",
      "10\n",
      "var2= 6\n"
     ]
    }
   ],
   "source": [
    "var1 = 10\n",
    "var2 = 6\n",
    "if var1>0:\n",
    "    print( \"1 - Got a true expression value\")\n",
    "    print( var1)\n",
    "    if var2 == 6:\n",
    "        print( 'var2=',var2)\n",
    "else:\n",
    "    print( \"1 - Got a false expression value\")\n",
    "    print( var1)\n",
    "\n",
    "# var2 = 0\n",
    "# if var2:\n",
    "#    print( \"2 - Got a true expression value\"\n",
    "#    print( var2\n",
    "# else:\n",
    "#    print( \"2 - Got a false expression value\"\n",
    "#    print( var2\n",
    "\n",
    "# print( \"Good bye!\""
   ]
  },
  {
   "cell_type": "markdown",
   "metadata": {
    "deletable": true,
    "editable": true
   },
   "source": [
    "4.1.2 ***if... elif... else...*** Syntax: <br>\n",
    "\n",
    "if expression1:\n",
    "<pre>statement(s)</pre>\n",
    "<pre>if expression2:</pre>\n",
    "<pre><pre>statement(s)</pre></pre>\n",
    "  <pre>elif expression3:</pre>\n",
    "     <pre> <pre>statement(s)</pre></pre>\n",
    "    <pre>else</pre>\n",
    "     <pre> statement(s)</pre>\n",
    "elif expression4:\n",
    "   <pre>statement(s)</pre>\n",
    "else:\n",
    "<pre>statement(s)</pre>"
   ]
  },
  {
   "cell_type": "code",
   "execution_count": 8,
   "metadata": {
    "collapsed": false,
    "deletable": true,
    "editable": true
   },
   "outputs": [
    {
     "name": "stdout",
     "output_type": "stream",
     "text": [
      "Expression value is less than 200\n",
      "Which is 100\n",
      "Good bye!\n"
     ]
    }
   ],
   "source": [
    "var = 100\n",
    "if var < 200:\n",
    "    print( \"Expression value is less than 200\")\n",
    "    if var == 150: print( \"Which is 150\")\n",
    "    if var == 100: print( \"Which is 100\")\n",
    "    if var == 50:   print( \"Which is 50\")\n",
    "    if var == 6000: print( \"which is 6000\")\n",
    "elif (var >= 200) and (var < 2000):\n",
    "    print( \"Expression value is larger than 200 and smaller than 2000\")\n",
    "else:\n",
    "    print( \"Could not find true expression\")\n",
    "print( \"Good bye!\")"
   ]
  },
  {
   "cell_type": "markdown",
   "metadata": {
    "deletable": true,
    "editable": true
   },
   "source": [
    "## 5) Python Loops"
   ]
  },
  {
   "cell_type": "markdown",
   "metadata": {
    "deletable": true,
    "editable": true
   },
   "source": [
    "There may be a situation when you need to execute a block of code several number of times. In general, statements are executed sequentially: The first statement in a function is executed first, followed by the second, and so on.\n"
   ]
  },
  {
   "cell_type": "markdown",
   "metadata": {
    "deletable": true,
    "editable": true
   },
   "source": [
    "Python programming language provides following types of loops to handle looping requirements. Click the following links to check their detail."
   ]
  },
  {
   "cell_type": "markdown",
   "metadata": {
    "deletable": true,
    "editable": true
   },
   "source": [
    "### 5.1  \"while\" loop"
   ]
  },
  {
   "cell_type": "markdown",
   "metadata": {
    "deletable": true,
    "editable": true
   },
   "source": [
    "A while loop statement in Python programming language repeatedly executes a target statement as long as a given condition is true."
   ]
  },
  {
   "cell_type": "markdown",
   "metadata": {
    "deletable": true,
    "editable": true
   },
   "source": [
    "**Syntax:** <br>\n",
    "    **while** expression:\n",
    "<pre>statement(s)</pre>"
   ]
  },
  {
   "cell_type": "code",
   "execution_count": null,
   "metadata": {
    "collapsed": false,
    "deletable": true,
    "editable": true
   },
   "outputs": [],
   "source": [
    "# while loop example:\n",
    "count = 0\n",
    "while count < 9:\n",
    "    print( 'The count is:', count)\n",
    "    count += 1\n",
    "\n",
    "print( \"Good bye!\")"
   ]
  },
  {
   "cell_type": "markdown",
   "metadata": {
    "deletable": true,
    "editable": true
   },
   "source": [
    "Python supports to have an **else** statement associated with a loop statement.\n",
    "\n",
    "If the **else** statement is used with a while loop, the **else** statement is executed when the condition becomes false.\n",
    "\n",
    "The following example illustrates the combination of an else statement with a while statement that print(s a number as long as it is less than 5, otherwise else statement gets executed."
   ]
  },
  {
   "cell_type": "code",
   "execution_count": null,
   "metadata": {
    "collapsed": false,
    "deletable": true,
    "editable": true
   },
   "outputs": [],
   "source": [
    "count = 10\n",
    "while count < 5:\n",
    "    print( count, \" is  less than 5\")\n",
    "    count += 1\n",
    "else:\n",
    "    print( count, \" is not less than 5 ... loop finished\")\n",
    "\n",
    "print( \"after the while... else loop\")"
   ]
  },
  {
   "cell_type": "code",
   "execution_count": null,
   "metadata": {
    "collapsed": false,
    "deletable": true,
    "editable": true
   },
   "outputs": [],
   "source": [
    "count = 0\n",
    "while count < 5:\n",
    "    print( count, \" is  less than 5\")\n",
    "    count += 1\n",
    "    if count>=3: break\n",
    "else:\n",
    "    print( count, \" is not less than 5\")"
   ]
  },
  {
   "cell_type": "markdown",
   "metadata": {
    "deletable": true,
    "editable": true
   },
   "source": [
    "###  5.2 \"for\" loop"
   ]
  },
  {
   "cell_type": "markdown",
   "metadata": {
    "deletable": true,
    "editable": true
   },
   "source": [
    "The for loop in Python has the ability to iterate over the items of any sequence, such as a list or a string."
   ]
  },
  {
   "cell_type": "markdown",
   "metadata": {
    "deletable": true,
    "editable": true
   },
   "source": [
    "**Syntax:** <br>\n",
    "**for** iterating_var in sequence:\n",
    "<pre>statements(s)</pre>\n"
   ]
  },
  {
   "cell_type": "code",
   "execution_count": null,
   "metadata": {
    "collapsed": false,
    "deletable": true,
    "editable": true
   },
   "outputs": [],
   "source": [
    "# for letter in 'Python':     # First Example\n",
    "#    print( 'Current Letter :', letter\n",
    "\n",
    "fruits = ['banana', 'apple',  'mango']\n",
    "for f in fruits:        # Second Example\n",
    "    print( ('Current fruit :', f[::-1])\n",
    "print( fruits)\n",
    "# print( \"Good bye!\""
   ]
  },
  {
   "cell_type": "code",
   "execution_count": null,
   "metadata": {
    "collapsed": false,
    "deletable": true,
    "editable": true
   },
   "outputs": [],
   "source": [
    "print( range(3)\n",
    "fruits = ['banana', 'apple',  'mango']\n",
    "for index in range(3):    \n",
    "    print( 'Current fruit #:', index,  fruits[index])\n",
    "\n",
    "# print( \"Good bye!\""
   ]
  },
  {
   "cell_type": "markdown",
   "metadata": {
    "deletable": true,
    "editable": true
   },
   "source": [
    "**The else Statement Used with Loops**\n",
    "Python supports to have an **else** statement associated with a loop statement.\n",
    "\n",
    "If the **else** statement is used with a **for** loop, the **else** statement is executed when the loop has exhausted iterating the list.\n",
    "\n",
    "The following example illustrates the combination of an else statement with a for statement that searches for prime numbers from 10 through 20.\n"
   ]
  },
  {
   "cell_type": "code",
   "execution_count": null,
   "metadata": {
    "collapsed": false,
    "deletable": true,
    "editable": true
   },
   "outputs": [],
   "source": [
    "for num in range(10,20):  #to iterate between 10 to 20\n",
    "    for i in range(2,num): #to iterate on the factors of the number\n",
    "        #print( 'current i',i\n",
    "        if num%i == 0:      #to determine the first factor\n",
    "            j=num//i          #to calculate the second factor\n",
    "            print( '%d equals %d * %d' % (num,i,j))\n",
    "            break #to move to the next number, the #first FOR\n",
    "    else:                  # else part of the loop\n",
    "        print( num, 'is a prime number')"
   ]
  },
  {
   "cell_type": "markdown",
   "metadata": {
    "deletable": true,
    "editable": true
   },
   "source": [
    "### 5.3 Loop Control Statements: break and continue"
   ]
  },
  {
   "cell_type": "markdown",
   "metadata": {
    "deletable": true,
    "editable": true
   },
   "source": [
    "**break** statement: Terminates the loop statement and transfers execution to the statement immediately following the loop."
   ]
  },
  {
   "cell_type": "code",
   "execution_count": null,
   "metadata": {
    "collapsed": false,
    "deletable": true,
    "editable": true
   },
   "outputs": [],
   "source": [
    "for letter in 'Python':     # First Example\n",
    "    if letter == 'h':\n",
    "        continue\n",
    "    print( 'Current Letter :', letter)\n",
    "  \n",
    "# var = 10                    # Second Example\n",
    "# while var > 0:              \n",
    "#     print( 'Current variable value :', var\n",
    "#     var -= 1\n",
    "#     if var == 5:\n",
    "#         break\n",
    "\n",
    "print( \"Good bye!\")"
   ]
  },
  {
   "cell_type": "markdown",
   "metadata": {
    "deletable": true,
    "editable": true
   },
   "source": [
    "**continue** statement:Causes the loop to skip the remainder of its body and immediately retest its condition prior to reiterating."
   ]
  },
  {
   "cell_type": "code",
   "execution_count": 9,
   "metadata": {
    "collapsed": false,
    "deletable": true,
    "editable": true
   },
   "outputs": [
    {
     "name": "stdout",
     "output_type": "stream",
     "text": [
      "Current Letter : P\n",
      "Current Letter : y\n",
      "Current Letter : t\n",
      "Current Letter : o\n",
      "Current Letter : n\n",
      "Good bye!\n"
     ]
    }
   ],
   "source": [
    "for letter in 'Python':     # First Example\n",
    "    if letter == 'h':\n",
    "        continue\n",
    "    print( 'Current Letter :', letter)\n",
    "\n",
    "# var = 10                    # Second Example\n",
    "# while var > 0:              \n",
    "#     var = var -1\n",
    "#     if var == 5:\n",
    "#         continue\n",
    "#     print( 'Current variable value :', var\n",
    "print( \"Good bye!\")"
   ]
  },
  {
   "cell_type": "code",
   "execution_count": null,
   "metadata": {
    "collapsed": false,
    "deletable": true,
    "editable": true
   },
   "outputs": [],
   "source": []
  }
 ],
 "metadata": {
  "kernelspec": {
   "display_name": "Python 3",
   "language": "python",
   "name": "python3"
  },
  "language_info": {
   "codemirror_mode": {
    "name": "ipython",
    "version": 3
   },
   "file_extension": ".py",
   "mimetype": "text/x-python",
   "name": "python",
   "nbconvert_exporter": "python",
   "pygments_lexer": "ipython3",
   "version": "3.5.2"
  }
 },
 "nbformat": 4,
 "nbformat_minor": 0
}
